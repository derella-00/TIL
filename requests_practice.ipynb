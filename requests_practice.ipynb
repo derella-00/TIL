{
 "cells": [
  {
   "cell_type": "code",
   "execution_count": 35,
   "id": "acb98933",
   "metadata": {},
   "outputs": [],
   "source": [
    "import requests\n",
    "\n",
    "url = \"https://api.themoviedb.org/3/movie/popular?api_key=b68a1e2478fa141e31bc5eee99424e2f&language=ko-KR\"\n",
    " \n",
    "data  = requests.get(url).json()\n"
   ]
  },
  {
   "cell_type": "markdown",
   "id": "8b47ac4a",
   "metadata": {},
   "source": [
    "# A"
   ]
  },
  {
   "cell_type": "code",
   "execution_count": 49,
   "id": "37731697",
   "metadata": {},
   "outputs": [
    {
     "data": {
      "text/plain": [
       "20"
      ]
     },
     "execution_count": 49,
     "metadata": {},
     "output_type": "execute_result"
    }
   ],
   "source": [
    "def popular_count(data):\n",
    "    return len(data.get('results'))\n",
    "\n",
    "popular_count(data)\n"
   ]
  },
  {
   "cell_type": "markdown",
   "id": "cd568298",
   "metadata": {},
   "source": [
    "# Problem B\n",
    "\n",
    "### Problem A에서 popular를 기준으로 가져온 영화 목록 중 평점이 8 이상인 영화들의 목록을 출력합니다. \n",
    "\n",
    "1. `requests`를 이용하여 인기 영화 정보(Get Popular)에 요청을 보냅니다.\n",
    "2. 받아온 데이터에서 평점(key `vote_average`)를 기준으로 점수가 8 이상인 영화들의 목록을 리스트로 반환하는 함수 `vote_average_movies`를 완성합니다."
   ]
  },
  {
   "cell_type": "code",
   "execution_count": 82,
   "id": "a7464582",
   "metadata": {},
   "outputs": [
    {
     "data": {
      "text/plain": [
       "['Avatar: The Way of Water', \"Guillermo del Toro's Pinocchio\"]"
      ]
     },
     "execution_count": 82,
     "metadata": {},
     "output_type": "execute_result"
    }
   ],
   "source": [
    "\n",
    "def vote_average():\n",
    "    counts = popular_count(data)\n",
    "    over_eight_mv = []\n",
    "\n",
    "    for count in range(0, counts):\n",
    "        if data['results'][count]['vote_average'] >= 8:\n",
    "                over_eight_mv.append(data['results'][count][\"original_title\"])\n",
    "    return over_eight_mv\n",
    "\n",
    "vote_average()\n",
    "\n",
    "\n"
   ]
  },
  {
   "cell_type": "code",
   "execution_count": null,
   "id": "33e753bb",
   "metadata": {},
   "outputs": [],
   "source": []
  }
 ],
 "metadata": {
  "kernelspec": {
   "display_name": "Python 3 (ipykernel)",
   "language": "python",
   "name": "python3"
  },
  "language_info": {
   "codemirror_mode": {
    "name": "ipython",
    "version": 3
   },
   "file_extension": ".py",
   "mimetype": "text/x-python",
   "name": "python",
   "nbconvert_exporter": "python",
   "pygments_lexer": "ipython3",
   "version": "3.10.9"
  }
 },
 "nbformat": 4,
 "nbformat_minor": 5
}
