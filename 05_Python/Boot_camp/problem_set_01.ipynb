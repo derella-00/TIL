{
 "cells": [
  {
   "cell_type": "markdown",
   "metadata": {},
   "source": [
    "## 모음 제거하기\n",
    "\n",
    "> 다음 문장의 모음을 제거한 새로운 문자열을 출력하세요.\n",
    "\n",
    "---\n",
    "\n",
    "\n",
    "**[입력 예시]**\n",
    "\n",
    "`'Life is too short, you need python'`\n",
    "\n",
    "**[출력 예시]**\n",
    "\n",
    "`Lf s t shrt, y nd pythn`"
   ]
  },
  {
   "cell_type": "code",
   "execution_count": 1,
   "metadata": {},
   "outputs": [],
   "source": [
    "my_str = 'Life is too short, you need python'\n",
    "\n",
    "# 아래에 코드를 작성하세요."
   ]
  },
  {
   "cell_type": "code",
   "execution_count": 5,
   "metadata": {},
   "outputs": [
    {
     "name": "stdout",
     "output_type": "stream",
     "text": [
      "L\n",
      "i\n",
      "f\n",
      "e\n",
      " \n",
      "i\n",
      "s\n",
      " \n",
      "t\n",
      "o\n",
      "o\n",
      " \n",
      "s\n",
      "h\n",
      "o\n",
      "r\n",
      "t\n",
      ",\n",
      " \n",
      "y\n",
      "o\n",
      "u\n",
      " \n",
      "n\n",
      "e\n",
      "e\n",
      "d\n",
      " \n",
      "p\n",
      "y\n",
      "t\n",
      "h\n",
      "o\n",
      "n\n"
     ]
    }
   ],
   "source": [
    "new_str = ''\n",
    "\n",
    "for char in my_str:\n",
    "    print(char)"
   ]
  },
  {
   "cell_type": "markdown",
   "metadata": {},
   "source": [
    "## 과일 개수 골라내기\n",
    "\n",
    "> 내 장바구니에 과일이 몇 개인지, 과일이 아닌 것은 몇개인지 출력하세요.\n",
    ">\n",
    "> 장바구니에 담긴 과일과, 과일 판별 리스트는 다음과 같습니다.\n",
    "> ```python\n",
    "> basket_items = {'apples': 4, 'oranges': 19, 'kites': 3, 'sandwiches': 8}\n",
    "> fruits = ['apples', 'oranges', 'pears', 'peaches', 'grapes', 'bananas']\n",
    "> ```\n",
    "\n",
    "---\n",
    "\n",
    "**[출력 예시]**\n",
    "\n",
    "과일은 23개이고, 11개는 과일이 아닙니다."
   ]
  },
  {
   "cell_type": "code",
   "execution_count": 2,
   "metadata": {},
   "outputs": [],
   "source": [
    "basket_items = {'apples': 4, 'oranges': 19, 'kites': 3, 'sandwiches': 8}\n",
    "fruits = ['apples', 'oranges', 'pears', 'peaches', 'grapes', 'bananas']\n",
    "\n",
    "# 아래에 코드를 작성하세요."
   ]
  },
  {
   "cell_type": "code",
   "execution_count": 3,
   "metadata": {},
   "outputs": [
    {
     "name": "stdout",
     "output_type": "stream",
     "text": [
      "과일은 23개이고, 11개는 과일이 아닙니다.\n"
     ]
    }
   ],
   "source": [
    "fruits_sum = 0\n",
    "non_fruits_sum = 0\n",
    "\n",
    "for wii in basket_items :\n",
    "    if wii in fruits :\n",
    "        fruits_sum += basket_items[wii]\n",
    "    else :\n",
    "        non_fruits_sum += basket_items[wii]\n",
    "        \n",
    "print(f'과일은 {fruits_sum}개이고, {non_fruits_sum}개는 과일이 아닙니다.')"
   ]
  },
  {
   "cell_type": "markdown",
   "metadata": {},
   "source": [
    "## 영어 이름 출력하기 \n",
    "\n",
    "> 영어 이름은 가운데 이름을 가지고 있는 경우가 있습니다.\n",
    ">\n",
    "> 가운데 이름은 대문자로 축약해서 나타내는 코드를 작성하세요.\n",
    "\n",
    "---\n",
    "**[입력 예시]**\n",
    "\n",
    "Alice Betty Catherine Davis\n",
    "\n",
    "**[출력 예시]**\n",
    "\n",
    "Alice B. C. Davis"
   ]
  },
  {
   "cell_type": "code",
   "execution_count": 16,
   "metadata": {},
   "outputs": [],
   "source": [
    "name = 'Alice Betty Catherine Davis'\n",
    "names = name.split()\n",
    "\n",
    "# 아래에 코드를 작성하세요."
   ]
  },
  {
   "cell_type": "code",
   "execution_count": 15,
   "metadata": {},
   "outputs": [
    {
     "name": "stdout",
     "output_type": "stream",
     "text": [
      "Alice a. v. Davis\n",
      "A\n",
      "a\n",
      "v\n",
      "D\n"
     ]
    }
   ],
   "source": [
    "print(names[0] + ' ' + names[1][0] + '. ' + names[2][0] +'. ' + names[3])\n",
    "\n",
    "for name in names:\n",
    "    print(name[0])"
   ]
  },
  {
   "cell_type": "code",
   "execution_count": 17,
   "metadata": {},
   "outputs": [
    {
     "ename": "SyntaxError",
     "evalue": "invalid syntax (1882518979.py, line 7)",
     "output_type": "error",
     "traceback": [
      "\u001b[0;36m  Cell \u001b[0;32mIn[17], line 7\u001b[0;36m\u001b[0m\n\u001b[0;31m    if idx == 0  or idz == len(names) -:\u001b[0m\n\u001b[0m                                       ^\u001b[0m\n\u001b[0;31mSyntaxError\u001b[0m\u001b[0;31m:\u001b[0m invalid syntax\n"
     ]
    }
   ],
   "source": [
    "# for 문을 썼을 때 인덱스를 이용하는 방법\n",
    "\n",
    "new_names = ''\n",
    "\n",
    "for idx, name in enumerate(names):\n",
    "    # idx가 0과 마지막이 아닐 경우에는\n",
    "    if idx == 0  or idx == len(names) -:\n",
    "        # 첫번째 글자(idx 0)만 뽑아보자\n",
    "        print(name[0])\n",
    "    else\n",
    "        new_name += f'{name[0]}. '\n",
    "        \n",
    "\n",
    "    print(new_o)"
   ]
  },
  {
   "cell_type": "code",
   "execution_count": 20,
   "metadata": {},
   "outputs": [
    {
     "name": "stdout",
     "output_type": "stream",
     "text": [
      "['Alice', 'l.', 'i.', 'Davis']\n",
      "Alice l. i. Davis\n"
     ]
    }
   ],
   "source": [
    "for idx in range(1, len(names) -1): # 0, 1, 2, 3\n",
    "    names[idx] = f'{name[idx][0]}.'\n",
    "    \n",
    "print(names)\n",
    "print(' '.join(names))"
   ]
  },
  {
   "cell_type": "code",
   "execution_count": null,
   "metadata": {},
   "outputs": [],
   "source": []
  }
 ],
 "metadata": {
  "kernelspec": {
   "display_name": "Python 3 (ipykernel)",
   "language": "python",
   "name": "python3"
  },
  "language_info": {
   "codemirror_mode": {
    "name": "ipython",
    "version": 3
   },
   "file_extension": ".py",
   "mimetype": "text/x-python",
   "name": "python",
   "nbconvert_exporter": "python",
   "pygments_lexer": "ipython3",
   "version": "3.10.9 (main, Dec 16 2022, 16:28:59) [Clang 14.0.0 (clang-1400.0.29.202)]"
  },
  "toc": {
   "base_numbering": 1,
   "nav_menu": {},
   "number_sections": true,
   "sideBar": true,
   "skip_h1_title": false,
   "title_cell": "Table of Contents",
   "title_sidebar": "Contents",
   "toc_cell": false,
   "toc_position": {},
   "toc_section_display": true,
   "toc_window_display": false
  },
  "vscode": {
   "interpreter": {
    "hash": "c820dd563ba014cfc5f13103a6d378856c55836cfa26e7c1e9e59b9f8e033a60"
   }
  }
 },
 "nbformat": 4,
 "nbformat_minor": 2
}
