{
 "cells": [
  {
   "cell_type": "code",
   "execution_count": 8,
   "id": "6d114326",
   "metadata": {},
   "outputs": [
    {
     "data": {
      "text/plain": [
       "[1 | None]"
      ]
     },
     "execution_count": 8,
     "metadata": {},
     "output_type": "execute_result"
    }
   ],
   "source": [
    "# node\n",
    "\n",
    "class Node:\n",
    "    def __init__(self, value, next_id=None):\n",
    "        self.value = value\n",
    "        self.next_id = next_id\n",
    "        \n",
    "    def __repr__(self):\n",
    "        return f'[{self.value} | {self.next_id}]'\n",
    "\n",
    "\n",
    "n1 = Node(1)\n",
    "n2 = Node(2)\n",
    "n3 = Node(3)\n",
    "\n",
    "n1\n",
    "    "
   ]
  },
  {
   "cell_type": "code",
   "execution_count": 13,
   "id": "3b42a13e",
   "metadata": {},
   "outputs": [
    {
     "data": {
      "text/plain": [
       "([1 | 4510966464], [2 | 4510964160], [3 | None])"
      ]
     },
     "execution_count": 13,
     "metadata": {},
     "output_type": "execute_result"
    }
   ],
   "source": [
    "# Linked List\n",
    "\n",
    "class LinkedList:\n",
    "    def __init__(self, *nodes):\n",
    "        for idx in range(len(nodes)-1):\n",
    "            nodes[idx].next_id = id(nodes[idx+1])\n",
    "            \n",
    "        self.first = nodes[0]\n",
    "        \n",
    "        # 있는 것을 역구현 하려고 하다보니 복잡하다고 느낄 수 있는데, 그림으로 노드들이 연결되어 잇는 것을\n",
    "        # 만드는 과정이다 정도로 알고 있으면 된다.\n",
    "\n",
    "ll = LinkedList(n1, n2, n3)\n",
    "        # 이제 n2의 next_id가 n3의 id 값이랑 같으면 잘 연결된 거겠지?\n",
    "\n",
    "n1, n2, n3\n"
   ]
  },
  {
   "cell_type": "code",
   "execution_count": 14,
   "id": "12605eec",
   "metadata": {},
   "outputs": [
    {
     "data": {
      "text/plain": [
       "True"
      ]
     },
     "execution_count": 14,
     "metadata": {},
     "output_type": "execute_result"
    }
   ],
   "source": [
    "n2.next_id == id(n3)"
   ]
  },
  {
   "cell_type": "markdown",
   "id": "5d0dc56c",
   "metadata": {},
   "source": []
  }
 ],
 "metadata": {
  "kernelspec": {
   "display_name": "Python 3 (ipykernel)",
   "language": "python",
   "name": "python3"
  },
  "language_info": {
   "codemirror_mode": {
    "name": "ipython",
    "version": 3
   },
   "file_extension": ".py",
   "mimetype": "text/x-python",
   "name": "python",
   "nbconvert_exporter": "python",
   "pygments_lexer": "ipython3",
   "version": "3.10.9"
  }
 },
 "nbformat": 4,
 "nbformat_minor": 5
}
