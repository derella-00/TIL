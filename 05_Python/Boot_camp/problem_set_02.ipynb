{
 "cells": [
  {
   "cell_type": "markdown",
   "metadata": {},
   "source": [
    "## 구구단 출력하기\n",
    "> 2단부터 9단까지 반복문을 사용하여 구구단을 출력하세요.\n",
    "---\n",
    "**[출력 예시]**\n",
    "```\n",
    "------- [2 단] -------\n",
    "2 X 1 = 2\n",
    "2 X 2 = 4\n",
    "2 X 3 = 6\n",
    "2 X 4 = 8\n",
    "2 X 5 = 10\n",
    "2 X 6 = 12\n",
    "2 X 7 = 14\n",
    "2 X 8 = 16\n",
    "2 X 9 = 18\n",
    "\n",
    "------- [3 단] -------\n",
    "...\n",
    "```"
   ]
  },
  {
   "cell_type": "code",
   "execution_count": null,
   "metadata": {},
   "outputs": [],
   "source": [
    "# 아래에 코드를 작성하세요."
   ]
  },
  {
   "cell_type": "code",
   "execution_count": 6,
   "metadata": {},
   "outputs": [
    {
     "name": "stdout",
     "output_type": "stream",
     "text": [
      "------- [2 단] -------\n",
      "2 x 1 = 2\n",
      "2 x 2 = 4\n",
      "2 x 3 = 6\n",
      "2 x 4 = 8\n",
      "2 x 5 = 10\n",
      "2 x 6 = 12\n",
      "2 x 7 = 14\n",
      "2 x 8 = 16\n",
      "2 x 9 = 18\n",
      "\n",
      "------- [3 단] -------\n",
      "3 x 1 = 3\n",
      "3 x 2 = 6\n",
      "3 x 3 = 9\n",
      "3 x 4 = 12\n",
      "3 x 5 = 15\n",
      "3 x 6 = 18\n",
      "3 x 7 = 21\n",
      "3 x 8 = 24\n",
      "3 x 9 = 27\n",
      "\n",
      "------- [4 단] -------\n",
      "4 x 1 = 4\n",
      "4 x 2 = 8\n",
      "4 x 3 = 12\n",
      "4 x 4 = 16\n",
      "4 x 5 = 20\n",
      "4 x 6 = 24\n",
      "4 x 7 = 28\n",
      "4 x 8 = 32\n",
      "4 x 9 = 36\n",
      "\n",
      "------- [5 단] -------\n",
      "5 x 1 = 5\n",
      "5 x 2 = 10\n",
      "5 x 3 = 15\n",
      "5 x 4 = 20\n",
      "5 x 5 = 25\n",
      "5 x 6 = 30\n",
      "5 x 7 = 35\n",
      "5 x 8 = 40\n",
      "5 x 9 = 45\n",
      "\n",
      "------- [6 단] -------\n",
      "6 x 1 = 6\n",
      "6 x 2 = 12\n",
      "6 x 3 = 18\n",
      "6 x 4 = 24\n",
      "6 x 5 = 30\n",
      "6 x 6 = 36\n",
      "6 x 7 = 42\n",
      "6 x 8 = 48\n",
      "6 x 9 = 54\n",
      "\n",
      "------- [7 단] -------\n",
      "7 x 1 = 7\n",
      "7 x 2 = 14\n",
      "7 x 3 = 21\n",
      "7 x 4 = 28\n",
      "7 x 5 = 35\n",
      "7 x 6 = 42\n",
      "7 x 7 = 49\n",
      "7 x 8 = 56\n",
      "7 x 9 = 63\n",
      "\n",
      "------- [8 단] -------\n",
      "8 x 1 = 8\n",
      "8 x 2 = 16\n",
      "8 x 3 = 24\n",
      "8 x 4 = 32\n",
      "8 x 5 = 40\n",
      "8 x 6 = 48\n",
      "8 x 7 = 56\n",
      "8 x 8 = 64\n",
      "8 x 9 = 72\n",
      "\n",
      "------- [9 단] -------\n",
      "9 x 1 = 9\n",
      "9 x 2 = 18\n",
      "9 x 3 = 27\n",
      "9 x 4 = 36\n",
      "9 x 5 = 45\n",
      "9 x 6 = 54\n",
      "9 x 7 = 63\n",
      "9 x 8 = 72\n",
      "9 x 9 = 81\n",
      "\n"
     ]
    }
   ],
   "source": [
    "for x in range(2, 10) :\n",
    "    print(f'------- [{x} 단] -------')\n",
    "    for y in range(1,10) :\n",
    "        print(f'{x} x {y} = {x * y}')\n",
    "    \n",
    "    print()\n",
    "# for-else: 는 break를 쓸 때 의미가 있다. 중간에 멈추는 경우가 있고, 특정 경우는 끝까지 완주한다면 완주했다는 것을\n",
    "# 표시할 때 else를 써서 그 의미가 있다.\n",
    "#         print()"
   ]
  },
  {
   "cell_type": "markdown",
   "metadata": {},
   "source": [
    "## 개인정보보호\n",
    "> 사용자의 핸드폰번호를 입력 받고, 개인정보 보호를 위하여 뒷자리 4자리를 제외하고는 마스킹 처리하세요.\n",
    "> * 핸드폰번호는 010으로 시작해야하고 11자리여야한다.\n",
    "> * 핸드폰번호를 입력하지 않았다면 \"핸드폰번호를 입력하세요\"를 출력한다.\n",
    "\n",
    "---\n",
    "\n",
    "**[입력 예시]**\n",
    "\n",
    "01012341234\n",
    "\n",
    "**[출력 예시]**\n",
    "\n",
    "*******1234"
   ]
  },
  {
   "cell_type": "code",
   "execution_count": null,
   "metadata": {},
   "outputs": [],
   "source": [
    "# 아래에 코드를 작성하세요."
   ]
  },
  {
   "cell_type": "code",
   "execution_count": 1,
   "metadata": {},
   "outputs": [
    {
     "name": "stdout",
     "output_type": "stream",
     "text": [
      "01033202247\n",
      "*******2247\n"
     ]
    }
   ],
   "source": [
    "ph_number = input('')\n",
    "pr_nums = ''\n",
    "\n",
    "if len(ph_number) != 11 or ph_number.startswith('010') == False:\n",
    "    print('핸드폰번호를 입력하세요')\n",
    "else:\n",
    "    for num in range(7,11):\n",
    "        nums = ph_number[num]\n",
    "        pr_nums += nums\n",
    "        \n",
    "        \n",
    "print(f'*******{pr_nums}')\n",
    "    "
   ]
  },
  {
   "cell_type": "code",
   "execution_count": 2,
   "metadata": {},
   "outputs": [
    {
     "data": {
      "text/plain": [
       "'****2247'"
      ]
     },
     "execution_count": 2,
     "metadata": {},
     "output_type": "execute_result"
    }
   ],
   "source": [
    "def masking(phone_number):\n",
    "    return f'****{phone_number[-4:]}'\n",
    "\n",
    "masking('01033202247')"
   ]
  },
  {
   "cell_type": "markdown",
   "metadata": {},
   "source": [
    "\n",
    "## 정중앙\n",
    "> 사용자가 입력한 문자열중 가운데 글자를 출력하세요. \n",
    "> * 단, 문자열이 짝수라면 가운데 두글자를 출력하세요.\n",
    "\n",
    "---\n",
    "\n",
    "**[입력 예시]**\n",
    "\n",
    "abc\n",
    "\n",
    "**[출력 예시]**\n",
    "\n",
    "b"
   ]
  },
  {
   "cell_type": "code",
   "execution_count": 1,
   "metadata": {},
   "outputs": [],
   "source": [
    "# 아래에 코드를 작성하세요."
   ]
  },
  {
   "cell_type": "code",
   "execution_count": 102,
   "metadata": {},
   "outputs": [
    {
     "name": "stdout",
     "output_type": "stream",
     "text": [
      "ㅁㄴ이ㅓㅏ호모니ㅏㅓ홈\n",
      "호\n"
     ]
    }
   ],
   "source": [
    "char = input('')\n",
    "\n",
    "if len(char) % 2 == 1:\n",
    "    num = int((len(char) + 1) / 2 - 1)\n",
    "    print(char[num])\n",
    "else :\n",
    "    num = int(len(char) / 2 - 1)\n",
    "    nums = int((len(char)/2))\n",
    "    print(char[num], char[nums])"
   ]
  },
  {
   "cell_type": "code",
   "execution_count": 4,
   "metadata": {},
   "outputs": [
    {
     "name": "stdout",
     "output_type": "stream",
     "text": [
      "반가워요\n"
     ]
    },
    {
     "data": {
      "text/plain": [
       "'가워'"
      ]
     },
     "execution_count": 4,
     "metadata": {},
     "output_type": "execute_result"
    }
   ],
   "source": [
    "chars = input('')\n",
    "\n",
    "def pick_mid(chars):\n",
    "    idx = len(chars) // 2\n",
    "    \n",
    "    if len(chars) % 2:\n",
    "        return chars[idx]\n",
    "    \n",
    "    else :\n",
    "        return chars[idx-1:idx+1]\n",
    "    \n",
    "pick_mid(chars)"
   ]
  },
  {
   "cell_type": "markdown",
   "metadata": {},
   "source": [
    "## 소수 찾기\n",
    "\n",
    "> 조건, 반복문을 응용하여 numbers 리스트의 요소들이 소수인지 아닌지 판단하는 코드를 작성하세요.\n",
    "\n",
    "---\n",
    "\n",
    "\n",
    "**[입력 예시]**\n",
    "\n",
    "26, 39, 51, 53, 57, 79, 85\n",
    "\n",
    "**[출력 예시]**\n",
    "```python\n",
    "26 는 소수가 아닙니다. 2 는 26 의 인수입니다.\n",
    "39 는 소수가 아닙니다. 3 는 39 의 인수입니다.\n",
    "51 는 소수가 아닙니다. 3 는 51 의 인수입니다.\n",
    "53 는 소수입니다.\n",
    "57 는 소수가 아닙니다. 3 는 57 의 인수입니다.\n",
    "79 는 소수입니다.\n",
    "85 는 소수가 아닙니다. 5 는 85 의 인수입니다.\n",
    "```"
   ]
  },
  {
   "cell_type": "code",
   "execution_count": null,
   "metadata": {},
   "outputs": [],
   "source": [
    "numbers = [26, 39, 51, 53, 57, 79, 85]\n",
    "\n",
    "# n을 2부터 n-1로 다 나누었 봤을 때, 나머지가 0인 수가 하나도 없을 때 소수\n",
    "\n",
    "# 아래에 코드를 작성하세요."
   ]
  },
  {
   "cell_type": "code",
   "execution_count": null,
   "metadata": {
    "scrolled": true
   },
   "outputs": [],
   "source": []
  },
  {
   "cell_type": "markdown",
   "metadata": {},
   "source": [
    "## 로또 등수\n",
    "\n",
    "> 로또 번호를 입력 받아 당첨 등수 맞추기\n",
    "\n",
    "- 1등 : 모두 일치\n",
    "- 2등 : 5개 일치, 나머지 하나는 보너스 숫자 일치\n",
    "- 3등 : 5개 일치\n",
    "- 4등 : 4개 일치\n",
    "- 5등 : 3개 일치\n",
    "---\n",
    "\n",
    "**[입력 예시]**\n",
    "\n",
    "my_numbers = [1, 2, 3, 4, 5, 6]\n",
    "\n",
    "jackpots_numbers = [2, 1, 4, 5, 6, 7]\n",
    "\n",
    "bonus_number = 8\n",
    "\n",
    "**[출력 예시]**\n",
    "\n",
    "3등\n",
    "\n"
   ]
  },
  {
   "cell_type": "code",
   "execution_count": 6,
   "metadata": {},
   "outputs": [],
   "source": [
    "jackpots_numbers = [1, 2, 4, 5, 6, 7]\n",
    "bonus_number = 8"
   ]
  },
  {
   "cell_type": "code",
   "execution_count": 8,
   "metadata": {},
   "outputs": [
    {
     "name": "stdout",
     "output_type": "stream",
     "text": [
      "124568\n",
      "낙첨\n"
     ]
    }
   ],
   "source": [
    "my_numbers = list(input(''))\n",
    "win_nums = []\n",
    "let_second = ''\n",
    "\n",
    " = len(set(my_numbers) & set(win_nums))\n",
    "\n",
    "# for my_number in my_numbers :    # 이것도 없어도 돼\n",
    "#     int_my_number = int(my_number)\n",
    "#     if int_my_number in jackpots_numbers :\n",
    "#         win_nums.append(int_my_number)\n",
    "#     if int_my_number == bonus_number :    # 없어도 돼\n",
    "#         let_second = 'same'\n",
    "\n",
    "if len(win_nums) == 6:\n",
    "    print('1등')\n",
    "elif len(win_nums) == 5 and let_second == 'same' : # bonus_number in my_numbers\n",
    "    print('2등')\n",
    "elif len(win_nums) == 5: # 더 세밀한 조건이 위에 있어야 한다.\n",
    "    print('3등')\n",
    "elif len(win_nums) == 4:\n",
    "    print('4등')\n",
    "elif len(win_nums) == 3:\n",
    "    print('5등')\n",
    "else :\n",
    "    print('낙첨')\n"
   ]
  },
  {
   "cell_type": "code",
   "execution_count": 10,
   "metadata": {},
   "outputs": [
    {
     "ename": "TypeError",
     "evalue": "object of type 'int' has no len()",
     "output_type": "error",
     "traceback": [
      "\u001b[0;31m---------------------------------------------------------------------------\u001b[0m",
      "\u001b[0;31mTypeError\u001b[0m                                 Traceback (most recent call last)",
      "Cell \u001b[0;32mIn[10], line 8\u001b[0m\n\u001b[1;32m      4\u001b[0m match_count \u001b[38;5;241m=\u001b[39m \u001b[38;5;28mlen\u001b[39m(\u001b[38;5;28mset\u001b[39m(mine) \u001b[38;5;241m&\u001b[39m \u001b[38;5;28mset\u001b[39m(real))\n\u001b[1;32m      6\u001b[0m match_count \u001b[38;5;241m=\u001b[39m \u001b[38;5;241m0\u001b[39m\n\u001b[0;32m----> 8\u001b[0m \u001b[38;5;28;01mif\u001b[39;00m \u001b[38;5;28;43mlen\u001b[39;49m\u001b[43m(\u001b[49m\u001b[43mmatch_count\u001b[49m\u001b[43m)\u001b[49m \u001b[38;5;241m==\u001b[39m \u001b[38;5;241m6\u001b[39m:\n\u001b[1;32m      9\u001b[0m     \u001b[38;5;28mprint\u001b[39m(\u001b[38;5;124m'\u001b[39m\u001b[38;5;124m1등\u001b[39m\u001b[38;5;124m'\u001b[39m)\n\u001b[1;32m     10\u001b[0m \u001b[38;5;28;01melif\u001b[39;00m \u001b[38;5;28mlen\u001b[39m(match_count) \u001b[38;5;241m==\u001b[39m \u001b[38;5;241m5\u001b[39m \u001b[38;5;129;01mand\u001b[39;00m bonus_number \u001b[38;5;129;01min\u001b[39;00m my_numbers :\n",
      "\u001b[0;31mTypeError\u001b[0m: object of type 'int' has no len()"
     ]
    }
   ],
   "source": [
    "mine = [2, 3, 4, 5, 6, 8]\n",
    "real = [2, 3, 4, 5, 6, 7]\n",
    "\n",
    "match_count = len(set(mine) & set(real))\n",
    "\n",
    "match_count = 0\n",
    "\n",
    "if len(match_count) == 6:\n",
    "    print('1등')\n",
    "elif len(match_count) == 5 and bonus_number in my_numbers :\n",
    "    print('2등')\n",
    "elif len(match_count) == 5: # 더 세밀한 조건이 위에 있어야 한다.\n",
    "    print('3등')\n",
    "elif len(match_count) == 4:\n",
    "    print('4등')\n",
    "elif len(match_count) == 3:\n",
    "    print('5등')\n",
    "else :\n",
    "    print('낙첨')"
   ]
  },
  {
   "cell_type": "code",
   "execution_count": 15,
   "metadata": {},
   "outputs": [
    {
     "name": "stdout",
     "output_type": "stream",
     "text": [
      "탈락\n"
     ]
    }
   ],
   "source": [
    "import random\n",
    "\n",
    "def check_lotto(mine, real, bonus):\n",
    "    match_count = len(set(mine) & set(real))\n",
    "    \n",
    "    if match_count == 6:\n",
    "        return 1\n",
    "    elif match_count == 5 and bonus in mine:\n",
    "        return 2\n",
    "    elif match_count == 5:\n",
    "        return 3\n",
    "    elif match_count == 4:\n",
    "        return 4\n",
    "    elif match_count == 3:\n",
    "        return 5\n",
    "    else :\n",
    "        return '탈락'\n",
    "    \n",
    "this_week = [7, 16, 25, 29, 35, 36]\n",
    "bonus = 28\n",
    "\n",
    "mine = random.sample(range(1, 46), 6)\n",
    "\n",
    "print(\n",
    "    check_lotto(\n",
    "        random.sample(range(1, 46), 6),\n",
    "        this_week,\n",
    "        bonus\n",
    "        )\n",
    "    )"
   ]
  },
  {
   "cell_type": "code",
   "execution_count": null,
   "metadata": {},
   "outputs": [],
   "source": []
  }
 ],
 "metadata": {
  "kernelspec": {
   "display_name": "Python 3 (ipykernel)",
   "language": "python",
   "name": "python3"
  },
  "language_info": {
   "codemirror_mode": {
    "name": "ipython",
    "version": 3
   },
   "file_extension": ".py",
   "mimetype": "text/x-python",
   "name": "python",
   "nbconvert_exporter": "python",
   "pygments_lexer": "ipython3",
   "version": "3.10.9"
  },
  "latex_envs": {
   "LaTeX_envs_menu_present": true,
   "autoclose": false,
   "autocomplete": true,
   "bibliofile": "biblio.bib",
   "cite_by": "apalike",
   "current_citInitial": 1,
   "eqLabelWithNumbers": true,
   "eqNumInitial": 1,
   "hotkeys": {
    "equation": "Ctrl-E",
    "itemize": "Ctrl-I"
   },
   "labels_anchors": false,
   "latex_user_defs": false,
   "report_style_numbering": false,
   "user_envs_cfg": false
  },
  "toc": {
   "base_numbering": 1,
   "nav_menu": {},
   "number_sections": true,
   "sideBar": true,
   "skip_h1_title": false,
   "title_cell": "Table of Contents",
   "title_sidebar": "Contents",
   "toc_cell": false,
   "toc_position": {},
   "toc_section_display": true,
   "toc_window_display": false
  },
  "vscode": {
   "interpreter": {
    "hash": "c820dd563ba014cfc5f13103a6d378856c55836cfa26e7c1e9e59b9f8e033a60"
   }
  }
 },
 "nbformat": 4,
 "nbformat_minor": 2
}
