{
 "cells": [
  {
   "cell_type": "markdown",
   "id": "3bbcaaef",
   "metadata": {},
   "source": [
    "# random modul"
   ]
  },
  {
   "cell_type": "code",
   "execution_count": 16,
   "id": "ea99f7e5",
   "metadata": {},
   "outputs": [],
   "source": [
    "import random\n"
   ]
  },
  {
   "cell_type": "code",
   "execution_count": 122,
   "id": "72814c1e",
   "metadata": {},
   "outputs": [],
   "source": [
    "# .getrandbit()\n",
    "# 해당 bit 숫자 생성"
   ]
  },
  {
   "cell_type": "code",
   "execution_count": null,
   "id": "dc9e5d56",
   "metadata": {},
   "outputs": [],
   "source": []
  },
  {
   "cell_type": "code",
   "execution_count": 19,
   "id": "d1f6da79",
   "metadata": {},
   "outputs": [
    {
     "data": {
      "text/plain": [
       "601245370410249828980661101488"
      ]
     },
     "execution_count": 19,
     "metadata": {},
     "output_type": "execute_result"
    }
   ],
   "source": [
    "random.getrandbits(100)"
   ]
  },
  {
   "cell_type": "code",
   "execution_count": 25,
   "id": "999d1673",
   "metadata": {},
   "outputs": [
    {
     "name": "stdout",
     "output_type": "stream",
     "text": [
      "Generating a random seqence of 3 intgers...\n",
      "138\n",
      "583\n",
      "868\n",
      "Generating the same identical sequence of 3 intgers...\n",
      "138\n",
      "583\n",
      "868\n"
     ]
    }
   ],
   "source": [
    "random.seed(1)\n",
    "\n",
    "\n",
    "state = random.getstate()\n",
    "\n",
    "print(\"Generating a random seqence of 3 intgers...\")\n",
    "\n",
    "for i in range(3):\n",
    "    print(random.randint(1, 1000))\n",
    "    \n",
    "random.setstate(state)\n",
    "\n",
    "print(\"Generating the same identical sequence of 3 intgers...\")\n",
    "for i in range(3):\n",
    "    print(random.randint(1,1000))"
   ]
  },
  {
   "cell_type": "markdown",
   "id": "5349452a",
   "metadata": {},
   "source": []
  },
  {
   "cell_type": "code",
   "execution_count": 39,
   "id": "292d851f",
   "metadata": {},
   "outputs": [
    {
     "name": "stdout",
     "output_type": "stream",
     "text": [
      "7\n",
      "0.6864838541790798\n",
      "3.432419270895399\n"
     ]
    }
   ],
   "source": [
    "random_integer = random.randint(1, 10)\n",
    "print(random_integer)\n",
    "\n",
    "random_float = random.random()\n",
    "print(random_float)\n",
    "\n",
    "print(random_float*5)"
   ]
  },
  {
   "cell_type": "markdown",
   "id": "0727bcdc",
   "metadata": {},
   "source": [
    "동전 던지기"
   ]
  },
  {
   "cell_type": "code",
   "execution_count": 51,
   "id": "8917084a",
   "metadata": {},
   "outputs": [
    {
     "name": "stdout",
     "output_type": "stream",
     "text": [
      "Heads\n"
     ]
    }
   ],
   "source": [
    "coin_side = random.randint(0,1)\n",
    "    \n",
    "if coin_side == 1:\n",
    "    coin = 'Heads'\n",
    "else:\n",
    "    coin = 'Tails'\n",
    "    \n",
    "print(coin)"
   ]
  },
  {
   "cell_type": "markdown",
   "id": "a21aa9bb",
   "metadata": {},
   "source": [
    "## Lists\n"
   ]
  },
  {
   "cell_type": "markdown",
   "id": "1528db19",
   "metadata": {},
   "source": [
    "계산할 사람 무작위 고르기"
   ]
  },
  {
   "cell_type": "code",
   "execution_count": 72,
   "id": "0eaff8ac",
   "metadata": {},
   "outputs": [
    {
     "name": "stdout",
     "output_type": "stream",
     "text": [
      "Give me everybody's names, separated by a comma. youngjae, chanuk, minjeong\n"
     ]
    }
   ],
   "source": [
    "# Split string method\n",
    "names_string = input(\"Give me everybody's names, separated by a comma. \")\n",
    "names = names_string.split(\", \")\n",
    "# 🚨 Don't change the code above 👆\n",
    "\n",
    "#Write your code below this line 👇\n"
   ]
  },
  {
   "cell_type": "code",
   "execution_count": 73,
   "id": "d9f41331",
   "metadata": {},
   "outputs": [
    {
     "name": "stdout",
     "output_type": "stream",
     "text": [
      "minjeong is going to buy the meal today!\n"
     ]
    }
   ],
   "source": [
    "#get the total number of items in list.\n",
    "num = random.randint(0,len(names)-1)\n",
    "print(f'{names[num]} is going to buy the meal today!')\n"
   ]
  },
  {
   "cell_type": "code",
   "execution_count": 76,
   "id": "a0936a46",
   "metadata": {},
   "outputs": [
    {
     "data": {
      "text/plain": [
       "'youngjae'"
      ]
     },
     "execution_count": 76,
     "metadata": {},
     "output_type": "execute_result"
    }
   ],
   "source": [
    "# .choice(names)\n",
    "\n",
    "random.choice(names)"
   ]
  },
  {
   "cell_type": "markdown",
   "id": "1420a04d",
   "metadata": {},
   "source": []
  },
  {
   "cell_type": "markdown",
   "id": "70ea02ea",
   "metadata": {},
   "source": [
    "중첩 리스트 test\n"
   ]
  },
  {
   "cell_type": "code",
   "execution_count": 105,
   "id": "51f8eae1",
   "metadata": {},
   "outputs": [
    {
     "name": "stdout",
     "output_type": "stream",
     "text": [
      "['⬜️', '⬜️', '⬜️']\n",
      "['⬜️', '⬜️', '⬜️']\n",
      "['⬜️', '⬜️', '⬜️']\n",
      "Where do you want to put the treasure? 23\n",
      "['⬜️', '⬜️', '⬜️']\n",
      "['⬜️', '⬜️', 'x']\n",
      "['⬜️', '⬜️', '⬜️']\n"
     ]
    }
   ],
   "source": [
    "# 🚨 Don't change the code below 👇\n",
    "row1 = [\"⬜️\",\"⬜️\",\"⬜️\"]\n",
    "row2 = [\"⬜️\",\"⬜️\",\"⬜️\"]\n",
    "row3 = [\"⬜️\",\"⬜️\",\"⬜️\"]\n",
    "map = [row1, row2, row3]\n",
    "print(f\"{row1}\\n{row2}\\n{row3}\")\n",
    "position = input(\"Where do you want to put the treasure? \")\n",
    "# 🚨 Don't change the code above 👆\n",
    "\n",
    "#Write your code below this row 👇\n",
    "idx = []\n",
    "idx += position\n",
    "row_num, col_num = int(idx[0])-1 , int(idx[1])-1\n",
    "\n",
    "# 문자열은 시퀀스 자료형으로 인덱스 호출 가능(?)\n",
    "# row_num = int(position[0])-1 \n",
    "# col_num = int(position[1])-1\n",
    "\n",
    "map[row_num][col_num] = 'x'\n",
    "\n",
    "\n",
    "\n",
    "# Write your code above this row 👆\n",
    "\n",
    "# 🚨 Don't change the code below 👇\n",
    "\n",
    "print(f\"{row1}\\n{row2}\\n{row3}\")"
   ]
  },
  {
   "cell_type": "markdown",
   "id": "d5730af3",
   "metadata": {},
   "source": [
    "### 가위바위보 게임"
   ]
  },
  {
   "cell_type": "code",
   "execution_count": 112,
   "id": "ba984150",
   "metadata": {},
   "outputs": [],
   "source": [
    "import random\n",
    "\n",
    "rock = '''\n",
    "    _______\n",
    "---'   ____)\n",
    "      (_____)\n",
    "      (_____)\n",
    "      (____)\n",
    "---.__(___)\n",
    "'''\n",
    "\n",
    "paper = '''\n",
    "    _______\n",
    "---'   ____)____\n",
    "          ______)\n",
    "          _______)\n",
    "         _______)\n",
    "---.__________)\n",
    "'''\n",
    "\n",
    "scissors = '''\n",
    "    _______\n",
    "---'   ____)____\n",
    "          ______)\n",
    "       __________)\n",
    "      (____)\n",
    "---.__(___)\n",
    "'''\n",
    "\n"
   ]
  },
  {
   "cell_type": "code",
   "execution_count": 1,
   "id": "a9add31c",
   "metadata": {},
   "outputs": [
    {
     "ename": "NameError",
     "evalue": "name 'rock' is not defined",
     "output_type": "error",
     "traceback": [
      "\u001b[0;31m---------------------------------------------------------------------------\u001b[0m",
      "\u001b[0;31mNameError\u001b[0m                                 Traceback (most recent call last)",
      "Cell \u001b[0;32mIn[1], line 1\u001b[0m\n\u001b[0;32m----> 1\u001b[0m game_images \u001b[39m=\u001b[39m [rock, paper, scissors]\n\u001b[1;32m      3\u001b[0m user_choice \u001b[39m=\u001b[39m \u001b[39mint\u001b[39m(\u001b[39minput\u001b[39m(\u001b[39m\"\u001b[39m\u001b[39mWhat do you choose? Type 0 for Rock, 1 for Paper or 2 for Scissors.\u001b[39m\u001b[39m\\n\u001b[39;00m\u001b[39m\"\u001b[39m))\n\u001b[1;32m      4\u001b[0m \u001b[39mprint\u001b[39m(game_images[user_choice])\n",
      "\u001b[0;31mNameError\u001b[0m: name 'rock' is not defined"
     ]
    }
   ],
   "source": [
    "game_images = [rock, paper, scissors]\n",
    "\n",
    "user_choice = int(input(\"What do you choose? Type 0 for Rock, 1 for Paper or 2 for Scissors.\\n\"))\n",
    "print(game_images[user_choice])\n",
    "\n",
    "computer_choice = random.randint(0, 2)\n",
    "print(\"Computer chose:\")\n",
    "print(game_images[computer_choice])\n",
    "\n",
    "if user_choice >= 3 or user_choice < 0: \n",
    "  print(\"You typed an invalid number, you lose!\") \n",
    "elif user_choice == 0 and computer_choice == 2:\n",
    "  print(\"You win!\")\n",
    "elif computer_choice == 0 and user_choice == 2:\n",
    "  print(\"You lose\")\n",
    "elif computer_choice > user_choice:\n",
    "  print(\"You lose\")\n",
    "elif user_choice > computer_choice:\n",
    "  print(\"You win!\")\n",
    "elif computer_choice == user_choice:\n",
    "  print(\"It's a draw\")\n",
    "\n"
   ]
  },
  {
   "cell_type": "code",
   "execution_count": null,
   "id": "b4dbc4ac",
   "metadata": {},
   "outputs": [],
   "source": []
  }
 ],
 "metadata": {
  "kernelspec": {
   "display_name": "Python 3",
   "language": "python",
   "name": "python3"
  },
  "language_info": {
   "codemirror_mode": {
    "name": "ipython",
    "version": 3
   },
   "file_extension": ".py",
   "mimetype": "text/x-python",
   "name": "python",
   "nbconvert_exporter": "python",
   "pygments_lexer": "ipython3",
   "version": "3.10.9"
  },
  "vscode": {
   "interpreter": {
    "hash": "c820dd563ba014cfc5f13103a6d378856c55836cfa26e7c1e9e59b9f8e033a60"
   }
  }
 },
 "nbformat": 4,
 "nbformat_minor": 5
}
