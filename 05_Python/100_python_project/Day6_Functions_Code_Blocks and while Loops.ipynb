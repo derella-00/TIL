{
 "cells": [
  {
   "cell_type": "markdown",
   "id": "0be8dfa7",
   "metadata": {},
   "source": [
    "## For\n",
    "\n",
    "```\n",
    "for item in list_of_item:\n",
    "    Do something to each item\n",
    "    \n",
    "for number in range(a,b):\n",
    "    print(number)\n",
    "```    "
   ]
  },
  {
   "cell_type": "markdown",
   "id": "bcd54a93",
   "metadata": {},
   "source": [
    "## While\n",
    "```\n",
    "while something_is_true\n",
    "    Do something repeatedly\n",
    "```"
   ]
  },
  {
   "cell_type": "code",
   "execution_count": 4,
   "id": "9af7af15",
   "metadata": {},
   "outputs": [
    {
     "name": "stdout",
     "output_type": "stream",
     "text": [
      "6\n",
      "jump!\n",
      "5\n",
      "jump!\n",
      "4\n",
      "jump!\n",
      "3\n",
      "jump!\n",
      "2\n",
      "jump!\n",
      "1\n",
      "jump!\n",
      "0\n"
     ]
    }
   ],
   "source": [
    "def jump():\n",
    "    print(\"jump!\")\n",
    "\n",
    "number_of_hurdles = 6\n",
    "print(number_of_hurdles)\n",
    "\n",
    "while number_of_hurdles > 0:\n",
    "    jump()\n",
    "    number_of_hurdles -= 1\n",
    "    print(number_of_hurdles)"
   ]
  },
  {
   "cell_type": "code",
   "execution_count": null,
   "id": "0383a81f",
   "metadata": {},
   "outputs": [],
   "source": [
    "# 언제까지 반복해야 할지 정확히 알 수 없을 때는?\n",
    "\n",
    "while at_goal != True:    # while not at_goal:\n",
    "    jump()\n",
    "    "
   ]
  },
  {
   "cell_type": "code",
   "execution_count": 5,
   "id": "c727bbc4",
   "metadata": {},
   "outputs": [],
   "source": [
    "# while 문에서 조건을 주고 반복하다가\n",
    "# while 문 반복에서 나오는 방법은 조건에 대해 '거짓이 나오면 나와서 할 무언가를'\n",
    "# 들여쓰기 없이 while 문에 맞춰 쓰면 된다.\n",
    "\n"
   ]
  },
  {
   "cell_type": "code",
   "execution_count": null,
   "id": "74a32a11",
   "metadata": {},
   "outputs": [],
   "source": []
  }
 ],
 "metadata": {
  "kernelspec": {
   "display_name": "Python 3 (ipykernel)",
   "language": "python",
   "name": "python3"
  },
  "language_info": {
   "codemirror_mode": {
    "name": "ipython",
    "version": 3
   },
   "file_extension": ".py",
   "mimetype": "text/x-python",
   "name": "python",
   "nbconvert_exporter": "python",
   "pygments_lexer": "ipython3",
   "version": "3.10.9"
  }
 },
 "nbformat": 4,
 "nbformat_minor": 5
}
