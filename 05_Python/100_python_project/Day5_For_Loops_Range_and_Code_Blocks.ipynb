{
 "cells": [
  {
   "cell_type": "markdown",
   "id": "e8b04fe2",
   "metadata": {},
   "source": [
    "## for Loops practice"
   ]
  },
  {
   "cell_type": "markdown",
   "id": "f31162a8",
   "metadata": {},
   "source": [
    "sum(), len() 함수 기능 구현"
   ]
  },
  {
   "cell_type": "code",
   "execution_count": 13,
   "id": "d370425e",
   "metadata": {},
   "outputs": [
    {
     "name": "stdout",
     "output_type": "stream",
     "text": [
      "Input a list of student heights 180 124 165 173 189 169 146\n"
     ]
    }
   ],
   "source": [
    "# 🚨 Don't change the code below 👇\n",
    "student_heights = input(\"Input a list of student heights \").split()\n",
    "for n in range(0, len(student_heights)):\n",
    "  student_heights[n] = int(student_heights[n])\n",
    "\n",
    "\n",
    "#Write your code below this row 👇"
   ]
  },
  {
   "cell_type": "markdown",
   "id": "71f33017",
   "metadata": {},
   "source": [
    "data = 180 124 165 173 189 169 146"
   ]
  },
  {
   "cell_type": "code",
   "execution_count": 19,
   "id": "c92f4518",
   "metadata": {},
   "outputs": [
    {
     "name": "stdout",
     "output_type": "stream",
     "text": [
      "163\n"
     ]
    }
   ],
   "source": [
    "total_height = 0\n",
    "num_student = 0\n",
    "for student_height in student_heights:\n",
    "    total_height += student_height\n",
    "    num_student += 1\n",
    "    \n",
    "avg_height = round(total_height // num_student, 2)\n",
    "print(avg_height)"
   ]
  },
  {
   "cell_type": "markdown",
   "id": "74a4ad89",
   "metadata": {},
   "source": [
    "max(), min() 함수 기능 구현"
   ]
  },
  {
   "cell_type": "code",
   "execution_count": 29,
   "id": "50abdabe",
   "metadata": {},
   "outputs": [
    {
     "name": "stdout",
     "output_type": "stream",
     "text": [
      "Input a list of student scores 9 8 10 11 48 25 28\n",
      "[9, 8, 10, 11, 48, 25, 28]\n"
     ]
    }
   ],
   "source": [
    "# 🚨 Don't change the code below 👇\n",
    "student_scores = input(\"Input a list of student scores \").split()\n",
    "for n in range(0, len(student_scores)):\n",
    "  student_scores[n] = int(student_scores[n])\n",
    "print(student_scores)\n",
    "\n",
    "#Write your code below this row 👇"
   ]
  },
  {
   "cell_type": "code",
   "execution_count": 35,
   "id": "2df550a3",
   "metadata": {},
   "outputs": [
    {
     "name": "stdout",
     "output_type": "stream",
     "text": [
      "The highest score in the class is 48, and the minimuest score in the class is 8.\n"
     ]
    }
   ],
   "source": [
    "highest_score = student_scores[0]\n",
    "minimumest_score = student_scores[0]\n",
    "\n",
    "for score in student_scores:\n",
    "    if highest_score < score:\n",
    "        highest_score = score\n",
    "\n",
    "for score in student_scores:\n",
    "    if minimumest_score > score:\n",
    "        minimumest_score = score\n",
    "        \n",
    "print(f'The highest score in the class is {highest_score}, and the minimuest score in the class is {minimumest_score}.')\n",
    "    \n",
    "    \n"
   ]
  },
  {
   "cell_type": "markdown",
   "id": "a11b43b6",
   "metadata": {},
   "source": [
    "## for _ in range: \n",
    "\n",
    "### 5.3 Adding Evens Exercise"
   ]
  },
  {
   "cell_type": "code",
   "execution_count": 39,
   "id": "5eff2c5d",
   "metadata": {},
   "outputs": [
    {
     "name": "stdout",
     "output_type": "stream",
     "text": [
      "2550\n"
     ]
    }
   ],
   "source": [
    "total = 0\n",
    "for num in range(2, 101, 2):\n",
    "    total += num\n",
    "print(total)"
   ]
  },
  {
   "cell_type": "markdown",
   "id": "93f18d1f",
   "metadata": {},
   "source": [
    "### 5.4 Fizz Buzz Exercise\n",
    "\n",
    "# Instructions\n",
    "\n",
    "You are going to write a program that automatically prints the solution to the FizzBuzz game. \n",
    "\n",
    "> Your program should print each number from 1 to 100 in turn.\n",
    "\n",
    "> `When the number is divisible by 3 then instead of printing the number it should print \"Fizz\".` \n",
    "\n",
    "> `When the number is divisible by 5, then instead of printing the number it should print \"Buzz\".` \n",
    "\n",
    "> `And if the number is divisible by both 3 and 5 e.g. 15 then instead of the number it should print \"FizzBuzz\"`\n",
    "\n",
    "e.g. it might start off like this:\n"
   ]
  },
  {
   "cell_type": "code",
   "execution_count": 43,
   "id": "046cab34",
   "metadata": {},
   "outputs": [
    {
     "name": "stdout",
     "output_type": "stream",
     "text": [
      "1\n",
      "2\n",
      "Fizz\n",
      "4\n",
      "Buzz\n",
      "Fizz\n",
      "7\n",
      "8\n",
      "Fizz\n",
      "Buzz\n",
      "11\n",
      "Fizz\n",
      "13\n",
      "14\n",
      "FizzBuzz\n",
      "16\n",
      "17\n",
      "Fizz\n",
      "19\n",
      "Buzz\n",
      "Fizz\n",
      "22\n",
      "23\n",
      "Fizz\n",
      "Buzz\n",
      "26\n",
      "Fizz\n",
      "28\n",
      "29\n",
      "FizzBuzz\n",
      "31\n",
      "32\n",
      "Fizz\n",
      "34\n",
      "Buzz\n",
      "Fizz\n",
      "37\n",
      "38\n",
      "Fizz\n",
      "Buzz\n",
      "41\n",
      "Fizz\n",
      "43\n",
      "44\n",
      "FizzBuzz\n",
      "46\n",
      "47\n",
      "Fizz\n",
      "49\n",
      "Buzz\n",
      "Fizz\n",
      "52\n",
      "53\n",
      "Fizz\n",
      "Buzz\n",
      "56\n",
      "Fizz\n",
      "58\n",
      "59\n",
      "FizzBuzz\n",
      "61\n",
      "62\n",
      "Fizz\n",
      "64\n",
      "Buzz\n",
      "Fizz\n",
      "67\n",
      "68\n",
      "Fizz\n",
      "Buzz\n",
      "71\n",
      "Fizz\n",
      "73\n",
      "74\n",
      "FizzBuzz\n",
      "76\n",
      "77\n",
      "Fizz\n",
      "79\n",
      "Buzz\n",
      "Fizz\n",
      "82\n",
      "83\n",
      "Fizz\n",
      "Buzz\n",
      "86\n",
      "Fizz\n",
      "88\n",
      "89\n",
      "FizzBuzz\n",
      "91\n",
      "92\n",
      "Fizz\n",
      "94\n",
      "Buzz\n",
      "Fizz\n",
      "97\n",
      "98\n",
      "Fizz\n",
      "Buzz\n"
     ]
    }
   ],
   "source": [
    "for i in range(1, 101):\n",
    "    if i % 15 == 0:\n",
    "        print('FizzBuzz')\n",
    "    elif i % 5 == 0:\n",
    "        print('Buzz')\n",
    "    elif i % 3 == 0:\n",
    "        print('Fizz')\n",
    "    else:\n",
    "        print(i)"
   ]
  },
  {
   "cell_type": "markdown",
   "id": "c279a2a6",
   "metadata": {},
   "source": [
    "### password generator Project"
   ]
  },
  {
   "cell_type": "code",
   "execution_count": 144,
   "id": "8bcde296",
   "metadata": {},
   "outputs": [
    {
     "name": "stdout",
     "output_type": "stream",
     "text": [
      "Welcome to the PyPassword Generator!\n",
      "How many letters would you like in your password?\n",
      "12\n",
      "How many symbols would you like?\n",
      "4\n",
      "How many numbers would you like?\n",
      "4\n",
      "['H', 'i', 'p', 'M', 'Q', 'e', 'R', 'w', 'n', 'W', 'l', 'X', '!', '$', '#', '&', '7', '6', '9', '4']\n",
      "then the password might look like this: !w$enXW9lQ4#MH&67ipR\n"
     ]
    }
   ],
   "source": [
    "import random\n",
    "letters = ['a', 'b', 'c', 'd', 'e', 'f', 'g', 'h', 'i', 'j', 'k', 'l', 'm', 'n', 'o', 'p', 'q', 'r', 's', 't', 'u', 'v', 'w', 'x', 'y', 'z', 'A', 'B', 'C', 'D', 'E', 'F', 'G', 'H', 'I', 'J', 'K', 'L', 'M', 'N', 'O', 'P', 'Q', 'R', 'S', 'T', 'U', 'V', 'W', 'X', 'Y', 'Z']\n",
    "numbers = ['0', '1', '2', '3', '4', '5', '6', '7', '8', '9']\n",
    "symbols = ['!', '#', '$', '%', '&', '(', ')', '*', '+']\n",
    "\n",
    "print(\"Welcome to the PyPassword Generator!\")\n",
    "nr_letters= int(input(\"How many letters would you like in your password?\\n\")) \n",
    "nr_symbols = int(input(f\"How many symbols would you like?\\n\"))\n",
    "nr_numbers = int(input(f\"How many numbers would you like?\\n\"))\n",
    "\n",
    "# 리스트로 뽑아 놓고 for문으로 원소 하나씩 뽑아서 문자열에 담기\n",
    "\n",
    "passwords = []\n",
    "letter = ''\n",
    "\n",
    "rd_letters = random.sample(letters, nr_letters)\n",
    "rd_symbols = random.sample(symbols, nr_symbols)\n",
    "rd_numbers = random.sample(numbers, nr_numbers)\n",
    "\n",
    "for rd_letter in rd_letters:\n",
    "    passwords.append(rd_letter)\n",
    "for rd_symbol in rd_symbols:\n",
    "    passwords.append(rd_symbol)\n",
    "for rd_number in rd_numbers:\n",
    "    passwords.append(rd_number)\n",
    "\n",
    "print(passwords)\n",
    "    \n",
    "# random.shuffle(passwords)\n",
    "# password = ''\n",
    "# for char in passwords:\n",
    "#     password += char\n",
    "# print(f'then the password might look like this: {password}')\n",
    "\n",
    "rd_passwords = random.sample(passwords, len(passwords))\n",
    "for rd_password in rd_passwords:\n",
    "    letter += rd_password\n",
    "    \n",
    "print(f'then the password might look like this: {letter}')\n",
    "\n",
    "\n",
    "\n"
   ]
  },
  {
   "cell_type": "code",
   "execution_count": null,
   "id": "2f2c2bfc",
   "metadata": {},
   "outputs": [],
   "source": [
    "#### Eazy Level - Order not randomised:\n",
    "#e.g. 4 letter, 2 symbol, 2 number = JduE&!91\n"
   ]
  },
  {
   "cell_type": "code",
   "execution_count": 106,
   "id": "1cb64e44",
   "metadata": {},
   "outputs": [],
   "source": [
    "#Hard Level - Order of characters randomised:\n",
    "#e.g. 4 letter, 2 symbol, 2 number = g^2jk8&P"
   ]
  },
  {
   "cell_type": "code",
   "execution_count": null,
   "id": "ae3a76df",
   "metadata": {},
   "outputs": [],
   "source": []
  },
  {
   "cell_type": "code",
   "execution_count": null,
   "id": "879bd6b6",
   "metadata": {},
   "outputs": [],
   "source": []
  }
 ],
 "metadata": {
  "kernelspec": {
   "display_name": "Python 3 (ipykernel)",
   "language": "python",
   "name": "python3"
  },
  "language_info": {
   "codemirror_mode": {
    "name": "ipython",
    "version": 3
   },
   "file_extension": ".py",
   "mimetype": "text/x-python",
   "name": "python",
   "nbconvert_exporter": "python",
   "pygments_lexer": "ipython3",
   "version": "3.10.9"
  }
 },
 "nbformat": 4,
 "nbformat_minor": 5
}
