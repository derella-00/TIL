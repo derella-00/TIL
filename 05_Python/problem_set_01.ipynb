{
 "cells": [
  {
   "cell_type": "markdown",
   "metadata": {},
   "source": [
    "## 모음 제거하기\n",
    "\n",
    "> 다음 문장의 모음을 제거한 새로운 문자열을 출력하세요.\n",
    "\n",
    "---\n",
    "\n",
    "\n",
    "**[입력 예시]**\n",
    "\n",
    "`'Life is too short, you need python'`\n",
    "\n",
    "**[출력 예시]**\n",
    "\n",
    "`Lf s t shrt, y nd pythn`"
   ]
  },
  {
   "cell_type": "code",
   "execution_count": 21,
   "metadata": {},
   "outputs": [],
   "source": [
    "my_str = 'Life is too short, you need python'\n",
    "\n",
    "# 아래에 코드를 작성하세요."
   ]
  },
  {
   "cell_type": "code",
   "execution_count": 39,
   "metadata": {},
   "outputs": [
    {
     "name": "stdout",
     "output_type": "stream",
     "text": [
      "Lf s t shrt, y nd pythn\n"
     ]
    }
   ],
   "source": [
    "new_str = ''\n",
    "\n",
    "for char in my_str :\n",
    "    if char in 'aeiou' :\n",
    "        continue\n",
    "    else :\n",
    "        new_str += char\n",
    "print(new_str)"
   ]
  },
  {
   "cell_type": "markdown",
   "metadata": {},
   "source": [
    "## 과일 개수 골라내기\n",
    "\n",
    "> 내 장바구니에 과일이 몇 개인지, 과일이 아닌 것은 몇개인지 출력하세요.\n",
    ">\n",
    "> 장바구니에 담긴 과일과, 과일 판별 리스트는 다음과 같습니다.\n",
    "> ```python\n",
    "> basket_items = {'apples': 4, 'oranges': 19, 'kites': 3, 'sandwiches': 8}\n",
    "> fruits = ['apples', 'oranges', 'pears', 'peaches', 'grapes', 'bananas']\n",
    "> ```\n",
    "\n",
    "---\n",
    "\n",
    "**[출력 예시]**\n",
    "\n",
    "과일은 23개이고, 11개는 과일이 아닙니다."
   ]
  },
  {
   "cell_type": "code",
   "execution_count": 50,
   "metadata": {},
   "outputs": [],
   "source": [
    "basket_items = {'apples': 4, 'oranges': 19, 'kites': 3, 'sandwiches': 8}\n",
    "fruits = ['apples', 'oranges', 'pears', 'peaches', 'grapes', 'bananas']\n",
    "\n",
    "# 아래에 코드를 작성하세요."
   ]
  },
  {
   "cell_type": "code",
   "execution_count": 52,
   "metadata": {},
   "outputs": [
    {
     "name": "stdout",
     "output_type": "stream",
     "text": [
      "과일은 23개이고, 11개는 과일이 아닙니다.\n"
     ]
    }
   ],
   "source": [
    "fruits_sum = 0\n",
    "non_fruits_sum = 0\n",
    "\n",
    "for wii in basket_items :\n",
    "    if wii in fruits :\n",
    "        fruits_sum += basket_items[wii]\n",
    "    else :\n",
    "        non_fruits_sum += basket_items[wii]\n",
    "        \n",
    "print(f'과일은 {fruits_sum}개이고, {non_fruits_sum}개는 과일이 아닙니다.')\n"
   ]
  },
  {
   "cell_type": "markdown",
   "metadata": {},
   "source": [
    "## 영어 이름 출력하기 \n",
    "\n",
    "> 영어 이름은 가운데 이름을 가지고 있는 경우가 있습니다.\n",
    ">\n",
    "> 가운데 이름은 대문자로 축약해서 나타내는 코드를 작성하세요.\n",
    "\n",
    "---\n",
    "**[입력 예시]**\n",
    "\n",
    "Alice Betty Catherine Davis\n",
    "\n",
    "**[출력 예시]**\n",
    "\n",
    "Alice B. C. Davis"
   ]
  },
  {
   "cell_type": "code",
   "execution_count": 41,
   "metadata": {},
   "outputs": [],
   "source": [
    "name = 'Alice Betty Catherine Davis'\n",
    "names = name.split()\n",
    "\n",
    "# 아래에 코드를 작성하세요."
   ]
  },
  {
   "cell_type": "code",
   "execution_count": 46,
   "metadata": {},
   "outputs": [
    {
     "name": "stdout",
     "output_type": "stream",
     "text": [
      "Alice B. C. Davis\n"
     ]
    }
   ],
   "source": [
    "print(names[0] + ' ' + names[1][0] + '. ' + names[2][0] +'. ' + names[3])"
   ]
  }
 ],
 "metadata": {
  "kernelspec": {
   "display_name": "Python 3 (ipykernel)",
   "language": "python",
   "name": "python3"
  },
  "language_info": {
   "codemirror_mode": {
    "name": "ipython",
    "version": 3
   },
   "file_extension": ".py",
   "mimetype": "text/x-python",
   "name": "python",
   "nbconvert_exporter": "python",
   "pygments_lexer": "ipython3",
   "version": "3.10.9"
  },
  "toc": {
   "base_numbering": 1,
   "nav_menu": {},
   "number_sections": true,
   "sideBar": true,
   "skip_h1_title": false,
   "title_cell": "Table of Contents",
   "title_sidebar": "Contents",
   "toc_cell": false,
   "toc_position": {},
   "toc_section_display": true,
   "toc_window_display": false
  },
  "vscode": {
   "interpreter": {
    "hash": "1a1af0ee75eeea9e2e1ee996c87e7a2b11a0bebd85af04bb136d915cefc0abce"
   }
  }
 },
 "nbformat": 4,
 "nbformat_minor": 2
}
