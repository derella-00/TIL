{
 "cells": [
  {
   "cell_type": "code",
   "execution_count": null,
   "id": "4b0f2498",
   "metadata": {},
   "outputs": [],
   "source": [
    "print('hello')"
   ]
  },
  {
   "cell_type": "code",
   "execution_count": null,
   "id": "bee8a919",
   "metadata": {},
   "outputs": [],
   "source": [
    "print('World!')"
   ]
  },
  {
   "cell_type": "code",
   "execution_count": null,
   "id": "76c73af2",
   "metadata": {},
   "outputs": [],
   "source": []
  },
  {
   "cell_type": "code",
   "execution_count": null,
   "id": "59a25497",
   "metadata": {},
   "outputs": [],
   "source": []
  },
  {
   "cell_type": "code",
   "execution_count": null,
   "id": "08b09201",
   "metadata": {},
   "outputs": [],
   "source": [
    "print('above')\n"
   ]
  },
  {
   "cell_type": "markdown",
   "id": "da1a29bf",
   "metadata": {},
   "source": [
    "### Markdown pakage\n",
    "- 이건 \n",
    "- 마크\n",
    "- 다운\n"
   ]
  },
  {
   "cell_type": "markdown",
   "id": "28f6a246",
   "metadata": {},
   "source": []
  }
 ],
 "metadata": {
  "kernelspec": {
   "display_name": "Python 3 (ipykernel)",
   "language": "python",
   "name": "python3"
  },
  "language_info": {
   "codemirror_mode": {
    "name": "ipython",
    "version": 3
   },
   "file_extension": ".py",
   "mimetype": "text/x-python",
   "name": "python",
   "nbconvert_exporter": "python",
   "pygments_lexer": "ipython3",
   "version": "3.11.0"
  }
 },
 "nbformat": 4,
 "nbformat_minor": 5
}
